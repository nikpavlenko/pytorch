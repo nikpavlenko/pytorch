{
  "nbformat": 4,
  "nbformat_minor": 0,
  "metadata": {
    "colab": {
      "name": "pytorch-gan.ipynb",
      "provenance": [],
      "collapsed_sections": []
    },
    "kernelspec": {
      "name": "python3",
      "display_name": "Python 3"
    }
  },
  "cells": [
    {
      "cell_type": "code",
      "metadata": {
        "id": "5FCab1vqDONe",
        "colab_type": "code",
        "colab": {}
      },
      "source": [
        "# Imports"
      ],
      "execution_count": 0,
      "outputs": []
    }
  ]
}